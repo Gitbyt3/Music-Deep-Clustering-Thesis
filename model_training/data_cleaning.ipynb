{
 "cells": [
  {
   "cell_type": "code",
   "execution_count": 4,
   "id": "5e2b87f3",
   "metadata": {},
   "outputs": [],
   "source": [
    "import pandas as pd\n",
    "import os\n",
    "import ast\n",
    "\n",
    "pd.set_option('display.max_colwidth', None)\n",
    "pd.set_option('display.max_columns', None)\n",
    "pd.set_option('display.max_rows', None)\n",
    "\n",
    "annos = pd.read_csv(os.path.join(os.getcwd(), '..', 'CSV_files', 'annotations_with_path_matches.csv'))"
   ]
  },
  {
   "cell_type": "code",
   "execution_count": 5,
   "id": "68734247",
   "metadata": {},
   "outputs": [
    {
     "name": "stdout",
     "output_type": "stream",
     "text": [
      "One file name mismatch between csv and audio folder fixed. Errors also dropped\n"
     ]
    }
   ],
   "source": [
    "# check whether all filenames in csv are present in audio folder\n",
    "audio_paths = os.listdir(os.path.join(os.getcwd(), '..', 'audios'))\n",
    "missing_files = [file for file in annos['file_path'] if file not in audio_paths]\n",
    "annos.loc[annos['file_path'] == 'jokerdefeatedclown:callmejokerhildurgunadottirsample2mp3.mp3', 'file_path'] = 'jokerdefeatedclown_callmejokerhildurgunadottirsample2mp3.mp3'\n",
    "annos = annos.drop(index=annos.loc[annos['file_path'].isna()].index)\n",
    "\n",
    "print('One file name mismatch between csv and audio folder fixed. Errors also dropped')"
   ]
  },
  {
   "cell_type": "code",
   "execution_count": 6,
   "id": "71f11f69",
   "metadata": {},
   "outputs": [
    {
     "name": "stdout",
     "output_type": "stream",
     "text": [
      "File names and film metadata match, only special character discrepancy (letter accents)\n"
     ]
    }
   ],
   "source": [
    "# check whether film metadata matches with file_path in csv\n",
    "\n",
    "annos_unique = annos.copy()\n",
    "annos_unique = annos.drop_duplicates(subset=['file_path'], ignore_index=True)\n",
    "\n",
    "mismatch_path_artist = []\n",
    "\n",
    "for index, row in annos_unique[['file_path', 'Composer/Artist_meta']].iterrows():\n",
    "    composer_tokens = row['Composer/Artist_meta'].lower().split()\n",
    "\n",
    "    count = 0\n",
    "    for token in composer_tokens:\n",
    "        if token not in row['file_path']:\n",
    "            count += 1\n",
    "\n",
    "    if count == len(composer_tokens):\n",
    "        mismatch_path_artist.append(index)\n",
    "\n",
    "print('File names and film metadata match, only special character discrepancy (letter accents)')"
   ]
  },
  {
   "cell_type": "code",
   "execution_count": 7,
   "id": "b850dbed",
   "metadata": {},
   "outputs": [
    {
     "name": "stdout",
     "output_type": "stream",
     "text": [
      "Irrelevant columns dropped, relevant columns reordered and renamed\n"
     ]
    }
   ],
   "source": [
    "drop_cols = ['participant_id','audio_file_path','num_annotations','all_timestamps','file_name_clean','fuzzy_match','fuzzy_match_meta','00:28:00_meta','Size (MB)_meta','Sample Rate (kHz)_meta',\n",
    "             'Stereo = 0/Mono =1_meta','ISRC_meta','Start Time Sample 1 (seconds)_meta','End Time Sample 1_meta','Sample 1 length (seconds)_meta','Sample 2 filename:_meta', 'emotion_sentence',\n",
    "             'Start Time Sample 2 (seconds)_meta','End Time Sample 2_meta','Sample 2 length (seconds)_meta','sample2_clean_meta','sample_number','Score = 0, Soundtrack = 1_meta']\n",
    "\n",
    "annos = annos.drop(columns=drop_cols).reindex(columns=['file_path','Track Title_meta','Composer/Artist_meta','Film_meta','Year_meta','Film Genre - IMDb_meta',\n",
    "                                                       'Director_meta','all_valence_values','all_arousal_values','familiarity_rating'])\n",
    "annos = annos.rename({'file_path':'file','Track Title_meta':'title','Composer/Artist_meta':'composer','Film_meta':'film','Year_meta':'year','Film Genre - IMDb_meta':'genre',\n",
    "                      'Director_meta':'director','all_valence_values':'valence','all_arousal_values':'arousal','familiarity_rating':'familiarity'}, axis=1)\n",
    "\n",
    "print('Irrelevant columns dropped, relevant columns reordered and renamed')"
   ]
  },
  {
   "cell_type": "code",
   "execution_count": 8,
   "id": "7dd2a91e",
   "metadata": {},
   "outputs": [
    {
     "name": "stdout",
     "output_type": "stream",
     "text": [
      "Annos shape before extracting individual V/A values: (660, 10)\n",
      "Annos shape after extracting individual V/A values: (1678, 10)\n"
     ]
    }
   ],
   "source": [
    "valence_index = 8\n",
    "arousal_index = 9\n",
    "\n",
    "data = []\n",
    "print(f'Annos shape before extracting individual V/A values: {annos.shape}')\n",
    "for _, row in annos.iterrows():\n",
    "    valence, arousal = ast.literal_eval(row['valence']), ast.literal_eval(row['arousal'])\n",
    "\n",
    "    for v, a in zip(valence, arousal):\n",
    "        data.append((row['file'], row['title'], row['composer'], row['film'], row['year'], row['genre'], row['director'], v, a, row['familiarity']))\n",
    "annos = pd.DataFrame(data, columns=annos.columns)\n",
    "print(f'Annos shape after extracting individual V/A values: {annos.shape}')\n"
   ]
  },
  {
   "cell_type": "code",
   "execution_count": 9,
   "id": "4808469f",
   "metadata": {},
   "outputs": [],
   "source": [
    "annos.to_csv(os.path.join(os.getcwd(), '..', 'CSV_files', 'arousal_valence.csv'), index=False)"
   ]
  }
 ],
 "metadata": {
  "kernelspec": {
   "display_name": "thesis_env",
   "language": "python",
   "name": "python3"
  },
  "language_info": {
   "codemirror_mode": {
    "name": "ipython",
    "version": 3
   },
   "file_extension": ".py",
   "mimetype": "text/x-python",
   "name": "python",
   "nbconvert_exporter": "python",
   "pygments_lexer": "ipython3",
   "version": "3.13.3"
  }
 },
 "nbformat": 4,
 "nbformat_minor": 5
}
