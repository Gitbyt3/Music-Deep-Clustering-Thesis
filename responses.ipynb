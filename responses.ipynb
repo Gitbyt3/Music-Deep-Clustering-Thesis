{
 "cells": [
  {
   "cell_type": "code",
   "execution_count": 1,
   "id": "8da578e9",
   "metadata": {},
   "outputs": [],
   "source": [
    "from dotenv import load_dotenv\n",
    "import os\n",
    "from firebase_admin import credentials, initialize_app, db"
   ]
  },
  {
   "cell_type": "code",
   "execution_count": 2,
   "id": "0aa97791",
   "metadata": {},
   "outputs": [
    {
     "data": {
      "text/plain": [
       "<firebase_admin.App at 0x2c68a2e23c0>"
      ]
     },
     "execution_count": 2,
     "metadata": {},
     "output_type": "execute_result"
    }
   ],
   "source": [
    "cred = credentials.Certificate('serviceAccountKey.json')\n",
    "initialize_app(cred, {'databaseURL':\"https://thesis-evaluation-survey-default-rtdb.europe-west1.firebasedatabase.app/\"})\n"
   ]
  },
  {
   "cell_type": "code",
   "execution_count": 3,
   "id": "020d78d9",
   "metadata": {},
   "outputs": [
    {
     "name": "stdout",
     "output_type": "stream",
     "text": [
      "34 responses\n"
     ]
    }
   ],
   "source": [
    "responses = db.reference('surveys').get()\n",
    "print(f\"{len(responses)} responses\")"
   ]
  },
  {
   "cell_type": "code",
   "execution_count": 4,
   "id": "429ee4c1",
   "metadata": {},
   "outputs": [
    {
     "name": "stdout",
     "output_type": "stream",
     "text": [
      "('35-44', 'Male', 'United Kingdom of Great Britain and Northern Ireland', 'At university')\n",
      "('25-34', 'Male', 'Sudan', 'At university')\n",
      "('18-24', 'Female', 'Romania', 'Full-time employed')\n",
      "('25-34', 'Female', 'United States of America', 'At university')\n",
      "('45-54', 'Male', 'Russian Federation', 'Self employed')\n",
      "('25-34', 'Male', 'India', 'At university')\n",
      "('25-34', 'Male', 'India', 'Full-time employed')\n",
      "('25-34', 'Female', 'United Kingdom of Great Britain and Northern Ireland', 'At university')\n",
      "('25-34', 'Female', 'United Kingdom of Great Britain and Northern Ireland', 'At university')\n",
      "('25-34', 'Male', 'Korea, Republic of', 'At university')\n",
      "('25-34', 'Female', 'United Kingdom of Great Britain and Northern Ireland', 'Part-time employed')\n",
      "('25-34', 'Male', 'Germany', 'At university')\n",
      "('18-24', 'Male', 'Brazil', 'Part-time employed')\n",
      "('18-24', 'Female', 'Netherlands', 'Full-time employed')\n",
      "('25-34', 'Male', 'Netherlands', 'Part-time employed')\n",
      "('25-34', 'Male', 'United Kingdom of Great Britain and Northern Ireland', 'Full-time employed')\n",
      "('18-24', 'Female', 'Malaysia', 'Full-time employed')\n",
      "('18-24', 'Female', 'India', 'Full-time employed')\n",
      "('25-34', 'Male', 'India', 'At university')\n",
      "('18-24', 'Female', 'Indonesia', 'At university')\n",
      "('18-24', 'Female', 'United States of America', 'Full-time employed')\n",
      "('18-24', 'Female', 'France', 'Full-time employed')\n",
      "('18-24', 'Male', 'Indonesia', 'Full-time employed')\n",
      "('65+', 'Male', 'Malaysia', 'Full-time employed')\n",
      "('18-24', 'Male', 'Peru', 'Full-time employed')\n",
      "('18-24', 'Female', 'Australia', 'Part-time employed')\n",
      "('65+', 'Male', 'Malaysia', 'Retired')\n",
      "('18-24', 'Male', 'Russian Federation', 'Full-time employed')\n",
      "('18-24', 'Male', 'Indonesia', 'Full-time employed')\n",
      "('25-34', 'Male', 'United Kingdom of Great Britain and Northern Ireland', 'Full-time employed')\n",
      "('25-34', 'Female', 'Poland', 'Part-time employed')\n",
      "('25-34', 'Female', 'United Kingdom of Great Britain and Northern Ireland', 'Full-time employed')\n",
      "('35-44', 'Male', 'New Zealand', 'Full-time employed')\n",
      "('18-24', 'Female', 'Morocco', 'Full-time employed')\n"
     ]
    }
   ],
   "source": [
    "for response_id, data in responses.items():\n",
    "    for _, dicts in data.items():\n",
    "        print(tuple(dicts.values()))\n",
    "        break\n"
   ]
  },
  {
   "cell_type": "code",
   "execution_count": null,
   "id": "a682ccdc",
   "metadata": {},
   "outputs": [],
   "source": []
  }
 ],
 "metadata": {
  "kernelspec": {
   "display_name": "thesis_env",
   "language": "python",
   "name": "python3"
  },
  "language_info": {
   "codemirror_mode": {
    "name": "ipython",
    "version": 3
   },
   "file_extension": ".py",
   "mimetype": "text/x-python",
   "name": "python",
   "nbconvert_exporter": "python",
   "pygments_lexer": "ipython3",
   "version": "3.13.3"
  }
 },
 "nbformat": 4,
 "nbformat_minor": 5
}
